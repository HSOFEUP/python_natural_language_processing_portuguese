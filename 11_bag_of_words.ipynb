{
 "cells": [
  {
   "cell_type": "markdown",
   "metadata": {},
   "source": [
    "# Bag-of-words\n",
    "\n",
    "\n",
    "The bag-of-words model is a simplifying representation used in natural language processing and information retrieval (IR). In this model, a text (such as a sentence or a document) is represented as the bag (multiset) of its words, disregarding grammar and even word order but keeping multiplicity. \n",
    "\n",
    "In document classification, a bag of words is a sparse vector of occurrence counts of words; that is, a sparse histogram over the vocabulary.\n",
    "\n",
    "(https://en.wikipedia.org/wiki/Bag-of-words_model)"
   ]
  },
  {
   "cell_type": "code",
   "execution_count": 1,
   "metadata": {
    "collapsed": true
   },
   "outputs": [],
   "source": [
    "from __future__ import unicode_literals "
   ]
  },
  {
   "cell_type": "markdown",
   "metadata": {},
   "source": [
    "## Collecting a dataset from ecommerce with product name and category"
   ]
  },
  {
   "cell_type": "code",
   "execution_count": 2,
   "metadata": {
    "collapsed": true
   },
   "outputs": [],
   "source": [
    "import gzip\n",
    "import json"
   ]
  },
  {
   "cell_type": "code",
   "execution_count": 3,
   "metadata": {
    "collapsed": false
   },
   "outputs": [],
   "source": [
    "# load json ecommerce dump\n",
    "corpus = list()\n",
    "with gzip.open('ecommerce.json.gz') as fp:\n",
    "    for line in fp:\n",
    "        entry = line.decode('utf8')\n",
    "        corpus.append(json.loads(entry))"
   ]
  },
  {
   "cell_type": "code",
   "execution_count": 4,
   "metadata": {
    "collapsed": false
   },
   "outputs": [
    {
     "name": "stdout",
     "output_type": "stream",
     "text": [
      "{u'_id': 120008322,\n",
      " u'cat': u' Automotivo',\n",
      " u'descr': u'Chegou o kit que junta resist\\xeancia e conforto, al\\xe9m de n\\xedveis m\\xe1ximos de seguran\\xe7a. S\\xe3o 4 pneus para seu carro ficar completo e com a qualifica\\xe7\\xe3o que voc\\xea precisa.\\nCom os conhecimentos avan\\xe7ados de hoje e um entusiasmo pela dire\\xe7\\xe3o, os engenheiros da Pirelli puderam dar grandes passos. Cada pneu da Pirelli \\xe9 respons\\xe1vel n\\xe3o s\\xf3 pelo desempenho, mas tamb\\xe9m por uma \"vontade de ir pra estrada\", comunicando-se com o motorista e gerando um melhor entendimento do desempenho do ve\\xedculo, ou seja, a Pirelli transforma a sua viagem em uma aventura divertida e livre de problemas. Pneu Pirelli para carros com rodas aro 16, modelo high performance Phanthon, perfil baixo proporcionando maior estabilidade nas curvas, excelente qualidade e durabilidade para pistas.\\n\\nImagens meramente ilustrativas.\\nTodas as informa\\xe7\\xf5es divulgadas s\\xe3o de responsabilidade do fabricante/fornecedor.',\n",
      " u'features': {u'Aro': u'16',\n",
      "               u'Categoria': u'Alta Performance,Pneu automotivo',\n",
      "               u'Composi\\xe7\\xe3o/Material': u'Borracha',\n",
      "               u'Dimens\\xf5es aproximadas da embalagem (cm) - AxLxP': u'63x23x63cm',\n",
      "               u'Dist\\xe2ncia do furo central ao eixo': u'N\\xe3o informado pelo fornecedor',\n",
      "               u'Dist\\xe2ncia entre furos': u'N\\xe3o informado pelo fornecedor',\n",
      "               u'Fornecedor': u'Pirelli',\n",
      "               u'Garantia do Fornecedor': u'60 meses',\n",
      "               u'Indica\\xe7\\xe3o': u'Carro',\n",
      "               u'Largura do Pneu': u'N\\xe3o informado pelo fornecedor',\n",
      "               u'Marca': u'Pirelli',\n",
      "               u'Modelo': u'7895119967121',\n",
      "               u'N\\xfamero de furos': u'N\\xe3o informado pelo fornecedor',\n",
      "               u'PRODUTO': u'Pneu Pirelli Aro 16 205/55R16 Phantom',\n",
      "               u'Peso aproximado da embalagem do produto (kg)': u'10kg',\n",
      "               u'Refer\\xeancia do Modelo': u'7895119967121',\n",
      "               u'Rela\\xe7\\xe3o altura do flanco x altura do pneu': u'62x22x62cm',\n",
      "               u'SAC': u'0800 7287638',\n",
      "               u'Tala': u'N\\xe3o informdo pelo fornecedor',\n",
      "               u'\\xcdndice de carga': u'615'},\n",
      " u'image_urls': [u'http://iacom1-a.akamaihd.net/img/_staging/bf15acom.png',\n",
      "                 u'http://iacom1-a.akamaihd.net/produtos/01/00/item/120008/3/120008322_2GG.jpg',\n",
      "                 u'http://iacom1-a.akamaihd.net/produtos/01/00/item/120008/3/120008322_1GG.png'],\n",
      " u'name': u'Kit com 4 Pneus de Alta Performance Pirelli Aro 16 205/55R16 Phantom',\n",
      " u'ratings': 0,\n",
      " u'stars': 0.0,\n",
      " u'subcat': u' Pneus e Rodas',\n",
      " u'url': u'http://www.americanas.com.br/produto/120008322/kit-com-4-pneus-de-alta-performance-pirelli-aro-16-205-55r16-phantom??chave=dp_automotivo_dt1'}\n"
     ]
    }
   ],
   "source": [
    "from pprint import pprint\n",
    "pprint(corpus[0])"
   ]
  },
  {
   "cell_type": "code",
   "execution_count": 5,
   "metadata": {
    "collapsed": false
   },
   "outputs": [
    {
     "data": {
      "text/plain": [
       "65875"
      ]
     },
     "execution_count": 5,
     "metadata": {},
     "output_type": "execute_result"
    }
   ],
   "source": [
    "len(corpus)"
   ]
  },
  {
   "cell_type": "code",
   "execution_count": 6,
   "metadata": {
    "collapsed": false
   },
   "outputs": [],
   "source": [
    "# let's build a classifier for product categories\n",
    "# for speed up the example lets only consider the first 10k products\n",
    "dataset = list()\n",
    "for entry in corpus[:10000]:\n",
    "    if 'cat' in entry:\n",
    "        dataset.append( (entry['name'], entry['cat'].lower().strip()) )"
   ]
  },
  {
   "cell_type": "code",
   "execution_count": 7,
   "metadata": {
    "collapsed": false
   },
   "outputs": [
    {
     "data": {
      "text/plain": [
       "9953"
      ]
     },
     "execution_count": 7,
     "metadata": {},
     "output_type": "execute_result"
    }
   ],
   "source": [
    "len(dataset)"
   ]
  },
  {
   "cell_type": "code",
   "execution_count": 8,
   "metadata": {
    "collapsed": false
   },
   "outputs": [
    {
     "name": "stdout",
     "output_type": "stream",
     "text": [
      "[(u'Kit com 4 Pneus de Alta Performance Pirelli Aro 16 205/55R16 Phantom',\n",
      "  u'automotivo'),\n",
      " (u'Chandon Brut Ros\\xe9 750 ml', u'alimentos e bebidas'),\n",
      " (u'Kit com 2 Vodkas Sueca Absolut Vanilia 1000ml', u'alimentos e bebidas'),\n",
      " (u'Kit  - Livros de Colorir: Jardim Secreto + Floresta Encantada + Reino Animal',\n",
      "  u'livros'),\n",
      " (u\"Livro - Assassin's Creed: Submundo\", u'livros'),\n",
      " (u'BCAA 2400 - 100 C\\xe1psulas - Nitech Nutrition',\n",
      "  u'suplementos e vitaminas'),\n",
      " (u'100% Whey - 900g - Baunilha - Nitech Nutrition',\n",
      "  u'suplementos e vitaminas'),\n",
      " (u'Whey Protein Isolate - 900g - Morango - Nitech Nutrition',\n",
      "  u'suplementos e vitaminas'),\n",
      " (u'100% Whey - 900g - Chocolate - Nitech Nutrition',\n",
      "  u'suplementos e vitaminas'),\n",
      " (u'BCAA 2400 - 200 C\\xe1psulas - Nitech Nutrition',\n",
      "  u'suplementos e vitaminas')]\n"
     ]
    }
   ],
   "source": [
    "pprint(dataset[:10])"
   ]
  },
  {
   "cell_type": "code",
   "execution_count": 9,
   "metadata": {
    "collapsed": false
   },
   "outputs": [
    {
     "name": "stdout",
     "output_type": "stream",
     "text": [
      "[(u'beb\\xeas', 1208),\n",
      " (u'eletroport\\xe1teis', 1052),\n",
      " (u'automotivo', 915),\n",
      " (u'utilidades dom\\xe9sticas', 857),\n",
      " (u'suplementos e vitaminas', 787),\n",
      " (u'ar-condicionado e aquecedores', 754),\n",
      " (u'inform\\xe1tica', 706),\n",
      " (u'cama, mesa e banho', 670),\n",
      " (u'tv e home theater', 644),\n",
      " (u'perfumaria', 532),\n",
      " (u'beleza e sa\\xfade', 497),\n",
      " (u'dvds e blu-ray', 433),\n",
      " (u'rel\\xf3gios', 410),\n",
      " (u'pet shop', 391),\n",
      " (u'instrumentos musicais', 44),\n",
      " (u'celulares e telefones', 18),\n",
      " (u'eletrodom\\xe9sticos', 16),\n",
      " (u'\\xe1udio', 13),\n",
      " (u'livros', 2),\n",
      " (u'alimentos e bebidas', 2),\n",
      " (u'brinquedos', 1),\n",
      " (u'linha industrial', 1)]\n"
     ]
    }
   ],
   "source": [
    "# how many distinc categories do we have and how many items per category?\n",
    "from collections import Counter\n",
    "counter = Counter([cat for prod, cat in dataset])\n",
    "\n",
    "pprint(counter.most_common())"
   ]
  },
  {
   "cell_type": "markdown",
   "metadata": {},
   "source": [
    "# Building a SVM Classivier with bag-of-words"
   ]
  },
  {
   "cell_type": "code",
   "execution_count": 10,
   "metadata": {
    "collapsed": true
   },
   "outputs": [],
   "source": [
    "from sklearn.pipeline import Pipeline\n",
    "from sklearn.svm import SVC\n",
    "from sklearn.preprocessing import LabelEncoder\n",
    "from sklearn.feature_extraction.text import TfidfVectorizer\n",
    "from sklearn.feature_extraction.text import CountVectorizer"
   ]
  },
  {
   "cell_type": "code",
   "execution_count": 11,
   "metadata": {
    "collapsed": true
   },
   "outputs": [],
   "source": [
    "classifier = Pipeline([('vect', CountVectorizer()), ('clf', SVC(kernel='linear', probability=True))])\n",
    "encoder = LabelEncoder()\n",
    "# Please check on http://scikit-learn.org/stable/tutorial/text_analytics/working_with_text_data.html"
   ]
  },
  {
   "cell_type": "code",
   "execution_count": 12,
   "metadata": {
    "collapsed": false
   },
   "outputs": [
    {
     "data": {
      "text/plain": [
       "9953"
      ]
     },
     "execution_count": 12,
     "metadata": {},
     "output_type": "execute_result"
    }
   ],
   "source": [
    "data = [prod for prod, cat in dataset]\n",
    "labels = [cat for prod, cat in dataset]\n",
    "len(data)"
   ]
  },
  {
   "cell_type": "code",
   "execution_count": 13,
   "metadata": {
    "collapsed": false
   },
   "outputs": [
    {
     "data": {
      "text/plain": [
       "Pipeline(steps=[(u'vect', CountVectorizer(analyzer=u'word', binary=False, decode_error=u'strict',\n",
       "        dtype=<type 'numpy.int64'>, encoding=u'utf-8', input=u'content',\n",
       "        lowercase=True, max_df=1.0, max_features=None, min_df=1,\n",
       "        ngram_range=(1, 1), preprocessor=None, stop_words=None,\n",
       "        s...',\n",
       "  max_iter=-1, probability=True, random_state=None, shrinking=True,\n",
       "  tol=0.001, verbose=False))])"
      ]
     },
     "execution_count": 13,
     "metadata": {},
     "output_type": "execute_result"
    }
   ],
   "source": [
    "target = encoder.fit_transform(labels)\n",
    "classifier.fit(data, target)"
   ]
  },
  {
   "cell_type": "code",
   "execution_count": 14,
   "metadata": {
    "collapsed": false
   },
   "outputs": [
    {
     "data": {
      "text/plain": [
       "array([3])"
      ]
     },
     "execution_count": 14,
     "metadata": {},
     "output_type": "execute_result"
    }
   ],
   "source": [
    "classifier.predict([\"Refrigerador Brastemp com função frostfree\"])"
   ]
  },
  {
   "cell_type": "code",
   "execution_count": 15,
   "metadata": {
    "collapsed": false
   },
   "outputs": [
    {
     "name": "stdout",
     "output_type": "stream",
     "text": [
      "bebês\n"
     ]
    }
   ],
   "source": [
    "print encoder.classes_[3]"
   ]
  },
  {
   "cell_type": "code",
   "execution_count": 16,
   "metadata": {
    "collapsed": false
   },
   "outputs": [],
   "source": [
    "probs = classifier.predict_proba([\"Refrigerador Brastemp com função frostfree\"])"
   ]
  },
  {
   "cell_type": "code",
   "execution_count": 17,
   "metadata": {
    "collapsed": false
   },
   "outputs": [
    {
     "name": "stdout",
     "output_type": "stream",
     "text": [
      "[(u'alimentos e bebidas', 0.009727997974364595),\n",
      " (u'ar-condicionado e aquecedores', 0.01189928250891044),\n",
      " (u'automotivo', 0.05661080631753129),\n",
      " (u'beb\\xeas', 0.12315065374854184),\n",
      " (u'beleza e sa\\xfade', 0.03663084493212984),\n",
      " (u'brinquedos', 0.004066643922691623),\n",
      " (u'cama, mesa e banho', 0.012042843279376204),\n",
      " (u'celulares e telefones', 0.004646753801491675),\n",
      " (u'dvds e blu-ray', 0.031133875578162027),\n",
      " (u'eletrodom\\xe9sticos', 0.36486048712399227),\n",
      " (u'eletroport\\xe1teis', 0.005211983196782103),\n",
      " (u'inform\\xe1tica', 0.03345228439460204),\n",
      " (u'instrumentos musicais', 0.010570278445553187),\n",
      " (u'linha industrial', 0.0051461009973493635),\n",
      " (u'livros', 0.007347498569096653),\n",
      " (u'perfumaria', 0.014809975695197167),\n",
      " (u'pet shop', 0.04802163272297251),\n",
      " (u'rel\\xf3gios', 0.005003718552577751),\n",
      " (u'suplementos e vitaminas', 0.13433214714263636),\n",
      " (u'tv e home theater', 0.042778075652347584),\n",
      " (u'utilidades dom\\xe9sticas', 0.020415493708260943),\n",
      " (u'\\xe1udio', 0.01814062173543265)]\n"
     ]
    }
   ],
   "source": [
    "guess = [( class_, probs.item(n)) for n, class_ in enumerate(encoder.classes_)]\n",
    "pprint(guess)"
   ]
  },
  {
   "cell_type": "code",
   "execution_count": 18,
   "metadata": {
    "collapsed": false
   },
   "outputs": [
    {
     "name": "stdout",
     "output_type": "stream",
     "text": [
      "eletrodomésticos: 0.3649\n",
      "suplementos e vitaminas: 0.1343\n",
      "bebês: 0.1232\n",
      "automotivo: 0.0566\n",
      "pet shop: 0.0480\n",
      "tv e home theater: 0.0428\n",
      "beleza e saúde: 0.0366\n",
      "informática: 0.0335\n",
      "dvds e blu-ray: 0.0311\n",
      "utilidades domésticas: 0.0204\n",
      "áudio: 0.0181\n",
      "perfumaria: 0.0148\n",
      "cama, mesa e banho: 0.0120\n",
      "ar-condicionado e aquecedores: 0.0119\n",
      "instrumentos musicais: 0.0106\n",
      "alimentos e bebidas: 0.0097\n",
      "livros: 0.0073\n",
      "eletroportáteis: 0.0052\n",
      "linha industrial: 0.0051\n",
      "relógios: 0.0050\n",
      "celulares e telefones: 0.0046\n",
      "brinquedos: 0.0041\n"
     ]
    }
   ],
   "source": [
    "from operator import itemgetter\n",
    "for cat, proba in sorted(guess, key=itemgetter(1), reverse=True):\n",
    "    print '{}: {:.4f}'.format(cat,proba)"
   ]
  },
  {
   "cell_type": "markdown",
   "metadata": {},
   "source": [
    "# Activity: How to improve the result above?\n",
    "\n",
    "What causes the result above?\n",
    "How can we improve?"
   ]
  },
  {
   "cell_type": "code",
   "execution_count": null,
   "metadata": {
    "collapsed": true
   },
   "outputs": [],
   "source": []
  }
 ],
 "metadata": {
  "kernelspec": {
   "display_name": "Python 2",
   "language": "python",
   "name": "python2"
  },
  "language_info": {
   "codemirror_mode": {
    "name": "ipython",
    "version": 2
   },
   "file_extension": ".py",
   "mimetype": "text/x-python",
   "name": "python",
   "nbconvert_exporter": "python",
   "pygments_lexer": "ipython2",
   "version": "2.7.6"
  }
 },
 "nbformat": 4,
 "nbformat_minor": 0
}
