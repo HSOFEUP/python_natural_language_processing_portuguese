{
 "cells": [
  {
   "cell_type": "markdown",
   "metadata": {},
   "source": [
    "# Activity 2: Named Entity Recognition\n",
    "\n",
    "**Named-entity recognition (NER)** (also known as entity identification, entity chunking and entity extraction) is a subtask of information extraction that seeks to locate and classify elements in text into pre-defined categories such as the names of persons, organizations, locations, expressions of times, quantities, monetary values, percentages, etc.\n",
    "\n",
    "Most research on NER systems has been structured as taking an unannotated block of text, such as this one:\n",
    "\n",
    "Jim bought 300 shares of Acme Corp. in 2006.\n",
    "And producing an annotated block of text that highlights the names of entities:\n",
    "\n",
    "[Jim]Person bought 300 shares of [Acme Corp.]Organization in [2006]Time.\n",
    "In this example, a person name consisting of one token, a two-token company name and a temporal expression have been detected and classified.\n",
    "\n",
    "State-of-the-art NER systems for English produce near-human performance. For example, the best system entering MUC-7 scored 93.39% of F-measure while human annotators scored 97.60% and 96.95%.\n",
    "\n",
    "(https://en.wikipedia.org/wiki/Named-entity_recognition)\n",
    "\n",
    "This task aims to names of organizations/brands from the corpus.txt. There is two basic approaches:\n",
    "\n",
    "* Grammar based\n",
    "* Machine Learning with a corpus of sequential labeled examples\n",
    "\n",
    "The result should show the candidates for organization/brands retrieved from corpus.txt."
   ]
  },
  {
   "cell_type": "code",
   "execution_count": null,
   "metadata": {
    "collapsed": true
   },
   "outputs": [],
   "source": []
  }
 ],
 "metadata": {
  "kernelspec": {
   "display_name": "Python 2",
   "language": "python",
   "name": "python2"
  },
  "language_info": {
   "codemirror_mode": {
    "name": "ipython",
    "version": 2
   },
   "file_extension": ".py",
   "mimetype": "text/x-python",
   "name": "python",
   "nbconvert_exporter": "python",
   "pygments_lexer": "ipython2",
   "version": "2.7.6"
  }
 },
 "nbformat": 4,
 "nbformat_minor": 0
}
