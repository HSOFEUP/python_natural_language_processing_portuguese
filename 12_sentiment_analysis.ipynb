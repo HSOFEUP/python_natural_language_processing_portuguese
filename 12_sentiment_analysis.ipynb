{
 "cells": [
  {
   "cell_type": "markdown",
   "metadata": {},
   "source": [
    "# Sentiment Analysis\n",
    "\n",
    "Sentiment analysis (also known as opinion mining) refers to the use of natural language processing, text analysis and computational linguistics to identify and extract subjective information in source materials. Sentiment analysis is widely applied to reviews and social media for a variety of applications, ranging from marketing to customer service.\n",
    "\n",
    "Lexical resources for Portuguese\n",
    "\n",
    "LIWC\n",
    "\n",
    "http://www.nilc.icmc.usp.br/portlex/index.php/pt/projetos/liwc\n",
    "\n",
    "OpLexicon\n",
    "\n",
    "http://ontolp.inf.pucrs.br/Recursos/downloads-OpLexicon.php\n",
    "\n",
    "SentiLex\n",
    "\n",
    "http://dmir.inesc-id.pt/project/SentiLex-PT_02 \n",
    "\n",
    "Corpora available\n",
    "\n",
    "http://www.linguateca.pt/Repositorio/ReLi/\n",
    "\n",
    "\n",
    "There is two ways for doing sentenece/text level sentiment analysis:\n",
    "\n",
    "* Based on lexical resources\n",
    "* Based on text categorization machine learning"
   ]
  },
  {
   "cell_type": "code",
   "execution_count": null,
   "metadata": {
    "collapsed": true
   },
   "outputs": [],
   "source": []
  }
 ],
 "metadata": {
  "kernelspec": {
   "display_name": "Python 2",
   "language": "python",
   "name": "python2"
  },
  "language_info": {
   "codemirror_mode": {
    "name": "ipython",
    "version": 2
   },
   "file_extension": ".py",
   "mimetype": "text/x-python",
   "name": "python",
   "nbconvert_exporter": "python",
   "pygments_lexer": "ipython2",
   "version": "2.7.6"
  }
 },
 "nbformat": 4,
 "nbformat_minor": 0
}
